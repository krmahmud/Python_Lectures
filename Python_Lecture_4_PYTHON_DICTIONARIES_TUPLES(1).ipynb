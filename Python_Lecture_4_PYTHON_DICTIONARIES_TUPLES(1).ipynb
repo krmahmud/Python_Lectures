{
 "cells": [
  {
   "cell_type": "markdown",
   "metadata": {
    "collapsed": true
   },
   "source": [
    "# Dictionaries"
   ]
  },
  {
   "cell_type": "markdown",
   "metadata": {},
   "source": [
    "A dictionary is a more general version of a list. Here is a list that contains the number of days in\n",
    "the months of the year:"
   ]
  },
  {
   "cell_type": "code",
   "execution_count": 1,
   "metadata": {
    "collapsed": true
   },
   "outputs": [],
   "source": [
    "days = [31, 28, 31, 30, 31, 30, 31, 31, 30, 31, 30, 31]"
   ]
  },
  {
   "cell_type": "markdown",
   "metadata": {},
   "source": [
    "If we want the the number of days in January, use days[0] . December is days[11] or days[-1] ."
   ]
  },
  {
   "cell_type": "markdown",
   "metadata": {},
   "source": [
    "Here is a dictionary of the days in the months of the year:"
   ]
  },
  {
   "cell_type": "code",
   "execution_count": 11,
   "metadata": {},
   "outputs": [
    {
     "name": "stdout",
     "output_type": "stream",
     "text": [
      "\n",
      "{'February': 28, 'October': 31, 'January': 31, 'April': 30, 'November': 30, 'March': 31, 'August': 31, 'May': 31, 'December': 31, 'June': 30, 'September': 30, 'July': 31} \n",
      "\n",
      "31\n"
     ]
    }
   ],
   "source": [
    "days = { 'January' :31, 'February' :28, 'March' :31, 'April' :30,\n",
    "'May' :31, 'June' :30, 'July' :31, 'August' :31,\n",
    "'September' :30, 'October' :31, 'November' :30, 'December' :31}\n",
    "print '\\n',days,'\\n'\n",
    "print days['January']"
   ]
  },
  {
   "cell_type": "markdown",
   "metadata": {},
   "source": [
    "One benefit of using dictionaries\n",
    "here is the code is more readable, and we don’t have to figure out which index in the list a given\n",
    "month is at. Dictionaries have a number of other uses, as well."
   ]
  },
  {
   "cell_type": "markdown",
   "metadata": {},
   "source": [
    "# Creating dictionaries"
   ]
  },
  {
   "cell_type": "code",
   "execution_count": 2,
   "metadata": {
    "collapsed": true
   },
   "outputs": [],
   "source": [
    "d = { ' A ' :100, ' B ' :200}"
   ]
  },
  {
   "cell_type": "markdown",
   "metadata": {},
   "source": [
    "To declare a dictionary we enclose it in curly braces, {} . Each entry consists of a pair separated\n",
    "by a colon. The first part of the pair is called the key and the second is the value. The key acts like\n",
    "an index. So in the first pair, ' A ' :100 , the key is ' A ' , the value is 100 , and d[ ' A ' ] gives 100 .\n",
    "Keys are often strings, but they can be integers, floats, and many other things as well. You can mix\n",
    "different types of keys in the same dictionary and different types of values, too."
   ]
  },
  {
   "cell_type": "markdown",
   "metadata": {},
   "source": [
    "# Changing dictionaries"
   ]
  },
  {
   "cell_type": "code",
   "execution_count": 3,
   "metadata": {},
   "outputs": [
    {
     "name": "stdout",
     "output_type": "stream",
     "text": [
      "{'A': 100, 'B': 200}\n"
     ]
    }
   ],
   "source": [
    "d = { 'A' :100, 'B' :200}\n",
    "print d"
   ]
  },
  {
   "cell_type": "markdown",
   "metadata": {},
   "source": [
    "To change d[' A '] to 400, do"
   ]
  },
  {
   "cell_type": "code",
   "execution_count": 4,
   "metadata": {},
   "outputs": [
    {
     "name": "stdout",
     "output_type": "stream",
     "text": [
      "{'A': 400, 'B': 200}\n"
     ]
    }
   ],
   "source": [
    "d['A']=400 # changing A in the dictionary\n",
    "print d"
   ]
  },
  {
   "cell_type": "markdown",
   "metadata": {},
   "source": [
    "To add a new entry to the dictionary, we can just assign it, like below:"
   ]
  },
  {
   "cell_type": "code",
   "execution_count": 5,
   "metadata": {},
   "outputs": [
    {
     "name": "stdout",
     "output_type": "stream",
     "text": [
      "{'A': 400, 'C': 500, 'B': 200}\n"
     ]
    }
   ],
   "source": [
    "d['C']=500 # adding one extra element in the dictionary\n",
    "print d"
   ]
  },
  {
   "cell_type": "markdown",
   "metadata": {},
   "source": [
    "Note that this sort of thing does not work with lists. Doing L[2]=500 on a list with two\n",
    "elements would produce an index out of range error. But it does work with dictionaries."
   ]
  },
  {
   "cell_type": "markdown",
   "metadata": {},
   "source": [
    "To delete an entry from a dictionary, use the del operator:"
   ]
  },
  {
   "cell_type": "code",
   "execution_count": 31,
   "metadata": {},
   "outputs": [
    {
     "name": "stdout",
     "output_type": "stream",
     "text": [
      "{'C': 500, 'B': 200}\n"
     ]
    }
   ],
   "source": [
    "del d['A'] # to delete an element from the dictionary\n",
    "print d"
   ]
  },
  {
   "cell_type": "markdown",
   "metadata": {},
   "source": [
    "# Empty dictionary"
   ]
  },
  {
   "cell_type": "markdown",
   "metadata": {},
   "source": [
    "The empty dictionary is {} , which is the dictionary equivalent of [] for lists or '   ' for strings."
   ]
  },
  {
   "cell_type": "markdown",
   "metadata": {},
   "source": [
    "# Example 1"
   ]
  },
  {
   "cell_type": "code",
   "execution_count": 8,
   "metadata": {},
   "outputs": [
    {
     "name": "stdout",
     "output_type": "stream",
     "text": [
      " Enter a word: 'dg'\n",
      "The definition is:"
     ]
    },
    {
     "ename": "KeyError",
     "evalue": "'dg'",
     "output_type": "error",
     "traceback": [
      "\u001b[0;31m---------------------------------------------------------------------------\u001b[0m",
      "\u001b[0;31mKeyError\u001b[0m                                  Traceback (most recent call last)",
      "\u001b[0;32m<ipython-input-8-e0c52bad809b>\u001b[0m in \u001b[0;36m<module>\u001b[0;34m()\u001b[0m\n\u001b[1;32m      6\u001b[0m \u001b[0;31m#print ('The definition is:' , d['cat'])\u001b[0m\u001b[0;34m\u001b[0m\u001b[0;34m\u001b[0m\u001b[0m\n\u001b[1;32m      7\u001b[0m \u001b[0;31m#print d[word]\u001b[0m\u001b[0;34m\u001b[0m\u001b[0;34m\u001b[0m\u001b[0m\n\u001b[0;32m----> 8\u001b[0;31m \u001b[0;32mprint\u001b[0m \u001b[0;34m'The definition is:'\u001b[0m \u001b[0;34m,\u001b[0m \u001b[0md\u001b[0m\u001b[0;34m[\u001b[0m\u001b[0mword\u001b[0m\u001b[0;34m]\u001b[0m\u001b[0;34m\u001b[0m\u001b[0m\n\u001b[0m",
      "\u001b[0;31mKeyError\u001b[0m: 'dg'"
     ]
    }
   ],
   "source": [
    "d = { 'dog' : ' has a tail and goes woof! ' ,\n",
    "'cat' : ' says meow ' ,\n",
    "'mouse' : ' chased by cats ' }\n",
    "#print d\n",
    "word = input( ' Enter a word: ' )\n",
    "#print ('The definition is:' , d['cat'])\n",
    "#print d[word]\n",
    "print 'The definition is:' , d[word]"
   ]
  },
  {
   "cell_type": "markdown",
   "metadata": {},
   "source": [
    "# Example 2\n",
    "In the game Scrabble, each letter has a point value associated with it. We can use the\n",
    "following dictionary for the letter values:"
   ]
  },
  {
   "cell_type": "code",
   "execution_count": 70,
   "metadata": {},
   "outputs": [
    {
     "name": "stdout",
     "output_type": "stream",
     "text": [
      " Enter a word: 'DDDDSSSS'\n",
      "2\n",
      "2\n",
      "2\n",
      "2\n",
      "1\n",
      "1\n",
      "1\n",
      "1\n",
      "12\n"
     ]
    }
   ],
   "source": [
    "word = input( ' Enter a word: ' )\n",
    "points = { 'A' :1,\n",
    "'H' :4,\n",
    "'O' :1,\n",
    "'V' :4,\n",
    "'B' :3,\n",
    "'I' :1,\n",
    "'P' :3,\n",
    "'W' :4,\n",
    "'C' :3, 'D' :2, 'E' :1, 'F' :4, 'G' :2,\n",
    "'J' :8, 'K' :5, 'L' :1, 'M' :3, 'N' :1,\n",
    "'Q' :10, 'R' :1, 'S' :1, 'T' :1, 'U' :1,\n",
    "'X' :8, 'Y' :4, 'Z' :10}\n",
    "#score = sum([points[c] for c in word])\n",
    "total = 0\n",
    "for c in word:\n",
    "    total += points[c] #This is important to take the key from the dictionary list. For this example, \n",
    "    print points[c]     # all the letters are capital, so take capital letters word\n",
    "print total             # ALso take the string with single quote\n",
    "#print score"
   ]
  },
  {
   "cell_type": "markdown",
   "metadata": {},
   "source": [
    "# Example 3\n",
    "A dictionary provides a nice way to represent a deck of cards:"
   ]
  },
  {
   "cell_type": "code",
   "execution_count": 82,
   "metadata": {
    "collapsed": true
   },
   "outputs": [],
   "source": [
    "#from random import shuffle  # import module\n",
    "import random   # import module"
   ]
  },
  {
   "cell_type": "code",
   "execution_count": 12,
   "metadata": {},
   "outputs": [
    {
     "name": "stdout",
     "output_type": "stream",
     "text": [
      " [{' value ': 2, ' suit ': ' spades '}, {' value ': 3, ' suit ': ' spades '}, {' value ': 4, ' suit ': ' spades '}, {' value ': 5, ' suit ': ' spades '}, {' value ': 6, ' suit ': ' spades '}, {' value ': 7, ' suit ': ' spades '}, {' value ': 8, ' suit ': ' spades '}, {' value ': 9, ' suit ': ' spades '}, {' value ': 10, ' suit ': ' spades '}, {' value ': 11, ' suit ': ' spades '}, {' value ': 12, ' suit ': ' spades '}, {' value ': 13, ' suit ': ' spades '}, {' value ': 14, ' suit ': ' spades '}, {' value ': 2, ' suit ': ' clubs '}, {' value ': 3, ' suit ': ' clubs '}, {' value ': 4, ' suit ': ' clubs '}, {' value ': 5, ' suit ': ' clubs '}, {' value ': 6, ' suit ': ' clubs '}, {' value ': 7, ' suit ': ' clubs '}, {' value ': 8, ' suit ': ' clubs '}, {' value ': 9, ' suit ': ' clubs '}, {' value ': 10, ' suit ': ' clubs '}, {' value ': 11, ' suit ': ' clubs '}, {' value ': 12, ' suit ': ' clubs '}, {' value ': 13, ' suit ': ' clubs '}, {' value ': 14, ' suit ': ' clubs '}, {' value ': 2, ' suit ': ' hearts '}, {' value ': 3, ' suit ': ' hearts '}, {' value ': 4, ' suit ': ' hearts '}, {' value ': 5, ' suit ': ' hearts '}, {' value ': 6, ' suit ': ' hearts '}, {' value ': 7, ' suit ': ' hearts '}, {' value ': 8, ' suit ': ' hearts '}, {' value ': 9, ' suit ': ' hearts '}, {' value ': 10, ' suit ': ' hearts '}, {' value ': 11, ' suit ': ' hearts '}, {' value ': 12, ' suit ': ' hearts '}, {' value ': 13, ' suit ': ' hearts '}, {' value ': 14, ' suit ': ' hearts '}, {' value ': 2, ' suit ': ' diamonds '}, {' value ': 3, ' suit ': ' diamonds '}, {' value ': 4, ' suit ': ' diamonds '}, {' value ': 5, ' suit ': ' diamonds '}, {' value ': 6, ' suit ': ' diamonds '}, {' value ': 7, ' suit ': ' diamonds '}, {' value ': 8, ' suit ': ' diamonds '}, {' value ': 9, ' suit ': ' diamonds '}, {' value ': 10, ' suit ': ' diamonds '}, {' value ': 11, ' suit ': ' diamonds '}, {' value ': 12, ' suit ': ' diamonds '}, {' value ': 13, ' suit ': ' diamonds '}, {' value ': 14, ' suit ': ' diamonds '}]\n"
     ]
    }
   ],
   "source": [
    "deck = [{ ' value ' :i, ' suit ' :c}\n",
    "for c in [ ' spades ' , ' clubs ' , ' hearts ' , ' diamonds ' ]\n",
    "for i in range(2,15)]\n",
    "print deck"
   ]
  },
  {
   "cell_type": "markdown",
   "metadata": {},
   "source": [
    "The deck is actually a list of 52 dictionaries. The shuffle method can be used to shuffle the deck:"
   ]
  },
  {
   "cell_type": "code",
   "execution_count": 14,
   "metadata": {},
   "outputs": [
    {
     "name": "stdout",
     "output_type": "stream",
     "text": [
      "[{' value ': 12, ' suit ': ' clubs '}, {' value ': 14, ' suit ': ' spades '}, {' value ': 12, ' suit ': ' spades '}, {' value ': 2, ' suit ': ' spades '}, {' value ': 3, ' suit ': ' spades '}, {' value ': 11, ' suit ': ' spades '}, {' value ': 6, ' suit ': ' hearts '}, {' value ': 14, ' suit ': ' hearts '}, {' value ': 9, ' suit ': ' clubs '}, {' value ': 5, ' suit ': ' spades '}, {' value ': 4, ' suit ': ' clubs '}, {' value ': 11, ' suit ': ' clubs '}, {' value ': 12, ' suit ': ' diamonds '}, {' value ': 4, ' suit ': ' hearts '}, {' value ': 13, ' suit ': ' diamonds '}, {' value ': 6, ' suit ': ' spades '}, {' value ': 10, ' suit ': ' hearts '}, {' value ': 14, ' suit ': ' diamonds '}, {' value ': 9, ' suit ': ' hearts '}, {' value ': 6, ' suit ': ' diamonds '}, {' value ': 2, ' suit ': ' clubs '}, {' value ': 6, ' suit ': ' clubs '}, {' value ': 7, ' suit ': ' clubs '}, {' value ': 3, ' suit ': ' clubs '}, {' value ': 3, ' suit ': ' diamonds '}, {' value ': 7, ' suit ': ' diamonds '}, {' value ': 9, ' suit ': ' diamonds '}, {' value ': 10, ' suit ': ' diamonds '}, {' value ': 7, ' suit ': ' spades '}, {' value ': 10, ' suit ': ' clubs '}, {' value ': 5, ' suit ': ' diamonds '}, {' value ': 8, ' suit ': ' diamonds '}, {' value ': 11, ' suit ': ' hearts '}, {' value ': 13, ' suit ': ' clubs '}, {' value ': 11, ' suit ': ' diamonds '}, {' value ': 8, ' suit ': ' spades '}, {' value ': 4, ' suit ': ' spades '}, {' value ': 2, ' suit ': ' hearts '}, {' value ': 4, ' suit ': ' diamonds '}, {' value ': 13, ' suit ': ' hearts '}, {' value ': 5, ' suit ': ' hearts '}, {' value ': 2, ' suit ': ' diamonds '}, {' value ': 7, ' suit ': ' hearts '}, {' value ': 10, ' suit ': ' spades '}, {' value ': 3, ' suit ': ' hearts '}, {' value ': 12, ' suit ': ' hearts '}, {' value ': 8, ' suit ': ' hearts '}, {' value ': 8, ' suit ': ' clubs '}, {' value ': 9, ' suit ': ' spades '}, {' value ': 13, ' suit ': ' spades '}, {' value ': 5, ' suit ': ' clubs '}, {' value ': 14, ' suit ': ' clubs '}]\n"
     ]
    }
   ],
   "source": [
    "from random import *\n",
    "shuffle(deck)\n",
    "print deck"
   ]
  },
  {
   "cell_type": "code",
   "execution_count": 15,
   "metadata": {},
   "outputs": [
    {
     "data": {
      "text/plain": [
       "{' suit ': ' clubs ', ' value ': 12}"
      ]
     },
     "execution_count": 15,
     "metadata": {},
     "output_type": "execute_result"
    }
   ],
   "source": [
    "deck[0]\n",
    "#deck[0][' suit ']\n",
    "#deck[0][ ' value ' ]\n",
    "#deck[0][ ' suit ' ]"
   ]
  },
  {
   "cell_type": "markdown",
   "metadata": {},
   "source": [
    "# Working with dictionaries"
   ]
  },
  {
   "cell_type": "markdown",
   "metadata": {},
   "source": [
    "# Copying dictionaries"
   ]
  },
  {
   "cell_type": "code",
   "execution_count": 16,
   "metadata": {},
   "outputs": [
    {
     "name": "stdout",
     "output_type": "stream",
     "text": [
      "{'A': 1, 'C': 3, 'B': 3, 'E': 1, 'D': 2, 'G': 2, 'F': 4, 'I': 1, 'H': 4, 'K': 5, 'J': 8, 'M': 3, 'L': 1, 'O': 1, 'N': 1, 'Q': 10, 'P': 3, 'S': 1, 'R': 1, 'U': 1, 'T': 1, 'W': 4, 'V': 4, 'Y': 4, 'X': 8, 'Z': 10}\n"
     ]
    }
   ],
   "source": [
    "points = { 'A' :1,\n",
    "'H' :4,\n",
    "'O' :1,\n",
    "'V' :4,\n",
    "'B' :3,\n",
    "'I' :1,\n",
    "'P' :3,\n",
    "'W' :4,\n",
    "'C' :3, 'D' :2, 'E' :1, 'F' :4, 'G' :2,\n",
    "'J' :8, 'K' :5, 'L' :1, 'M' :3, 'N' :1,\n",
    "'Q' :10, 'R' :1, 'S' :1, 'T' :1, 'U' :1,\n",
    "'X' :8, 'Y' :4, 'Z' :10}\n",
    "points_duplicate=points.copy()\n",
    "print points_duplicate"
   ]
  },
  {
   "cell_type": "markdown",
   "metadata": {},
   "source": [
    "# in operator\n",
    "The in operator is used to tell if something is a key in the dictionary. For instance, say we\n",
    "have the following dictionary:"
   ]
  },
  {
   "cell_type": "code",
   "execution_count": 98,
   "metadata": {},
   "outputs": [
    {
     "name": "stdout",
     "output_type": "stream",
     "text": [
      " Enter a letter: ' A '\n",
      "(' The value is ', 100)\n"
     ]
    }
   ],
   "source": [
    "d = { ' A ' :100, ' B ' :200}\n",
    "letter = input( ' Enter a letter: ' )\n",
    "if letter in d:\n",
    "    print( ' The value is ' , d[letter])\n",
    "else:\n",
    "    print( ' Not in dictionary ' )"
   ]
  },
  {
   "cell_type": "markdown",
   "metadata": {},
   "source": [
    "You can also use not in to see if a key is not in the dictionary."
   ]
  },
  {
   "cell_type": "markdown",
   "metadata": {},
   "source": [
    "# Looping\n",
    "Looping through dictionaries is similar to looping through lists. Here is an example that\n",
    "prints the keys in a dictionary:\n",
    "\n",
    "for key in d:\n",
    "   \n",
    "       print(key)\n",
    "\n",
    "Here is an example that prints the values:\n",
    "\n",
    "for key in d:\n",
    "   \n",
    "       print(d[key])"
   ]
  },
  {
   "cell_type": "markdown",
   "metadata": {},
   "source": [
    "# Lists of keys and values\n",
    "The following table illustrates the ways to get lists of keys and values\n",
    "from a dictionary. It uses the dictionary d={ ' A ' :100, ' B ' :200} ."
   ]
  },
  {
   "cell_type": "code",
   "execution_count": 104,
   "metadata": {},
   "outputs": [
    {
     "data": {
      "text/plain": [
       "[' A ', ' B ']"
      ]
     },
     "execution_count": 104,
     "metadata": {},
     "output_type": "execute_result"
    }
   ],
   "source": [
    "d = { ' A ' :100, ' B ' :200}\n",
    "list(d) # keys of d"
   ]
  },
  {
   "cell_type": "code",
   "execution_count": 105,
   "metadata": {},
   "outputs": [
    {
     "data": {
      "text/plain": [
       "[100, 200]"
      ]
     },
     "execution_count": 105,
     "metadata": {},
     "output_type": "execute_result"
    }
   ],
   "source": [
    "list(d.values())#values of d"
   ]
  },
  {
   "cell_type": "code",
   "execution_count": 106,
   "metadata": {},
   "outputs": [
    {
     "data": {
      "text/plain": [
       "[(' A ', 100), (' B ', 200)]"
      ]
     },
     "execution_count": 106,
     "metadata": {},
     "output_type": "execute_result"
    }
   ],
   "source": [
    "list(d.items()) #(key,value) pairs of d"
   ]
  },
  {
   "cell_type": "markdown",
   "metadata": {},
   "source": [
    " The pairs returned by d.items are called  \"tuples\". \"Tuples\" are a lot like lists."
   ]
  },
  {
   "cell_type": "markdown",
   "metadata": {},
   "source": [
    "Here is a use of d.items to find all the keys in a dictionary d that correspond to a value of 100:"
   ]
  },
  {
   "cell_type": "code",
   "execution_count": 108,
   "metadata": {},
   "outputs": [
    {
     "name": "stdout",
     "output_type": "stream",
     "text": [
      "[' A ', ' C ']\n"
     ]
    }
   ],
   "source": [
    "d = { ' A ' :100, ' B ' :200, ' C ' :100}\n",
    "L = [x[0] for x in d.items() if x[1]==100]\n",
    "print L"
   ]
  },
  {
   "cell_type": "markdown",
   "metadata": {},
   "source": [
    "# dict function\n",
    "The dict function is another way to create a dictionary. One use for it is kind of like the\n",
    "opposite of the items method:\n"
   ]
  },
  {
   "cell_type": "code",
   "execution_count": 109,
   "metadata": {
    "collapsed": true
   },
   "outputs": [],
   "source": [
    "d = dict([( ' A ' ,100),( ' B ' ,300)])"
   ]
  },
  {
   "cell_type": "markdown",
   "metadata": {},
   "source": [
    "This creates the dictionary { ' A ' :100, ' B ' :300} . This way of building a dictionary is useful if\n",
    "your program needs to construct a dictionary while it is running."
   ]
  },
  {
   "cell_type": "markdown",
   "metadata": {},
   "source": [
    "# Dictionary comprehensions \n",
    "Dictionary comprehensions work similarly to list comprehensions.\n",
    "The following simple example creates a dictionary from a list of words, where the values are the\n",
    "lengths of the words:"
   ]
  },
  {
   "cell_type": "code",
   "execution_count": 17,
   "metadata": {},
   "outputs": [
    {
     "name": "stdout",
     "output_type": "stream",
     "text": [
      " Enter a word: 'll','kk'\n",
      "\n",
      "{'kk': 2, 'll': 2}\n"
     ]
    }
   ],
   "source": [
    "words = input( ' Enter a word: ' )\n",
    "len(words)\n",
    "print \n",
    "d = {s : len(s) for s in words}\n",
    "print d"
   ]
  },
  {
   "cell_type": "markdown",
   "metadata": {},
   "source": [
    "# Counting words"
   ]
  },
  {
   "cell_type": "code",
   "execution_count": 20,
   "metadata": {},
   "outputs": [
    {
     "name": "stdout",
     "output_type": "stream",
     "text": [
      "Hello.\n",
      "This is a text file.\n",
      "Bye!\n"
     ]
    }
   ],
   "source": [
    "from string import punctuation\n",
    "# read from file, remove caps and punctuation, and split into words\n",
    "text = open( 'example1.txt' ).read()\n",
    "print text"
   ]
  },
  {
   "cell_type": "code",
   "execution_count": 24,
   "metadata": {},
   "outputs": [
    {
     "name": "stdout",
     "output_type": "stream",
     "text": [
      "hello\n",
      "this is a text file\n",
      "bye\n",
      "['hello', 'this', 'is', 'a', 'text', 'file', 'bye']\n"
     ]
    }
   ],
   "source": [
    "text = text.lower()\n",
    "for p in punctuation:\n",
    "    text = text.replace(p, '' )\n",
    "   # print p\n",
    "words = text.split()\n",
    "print text\n",
    "print words"
   ]
  },
  {
   "cell_type": "code",
   "execution_count": 130,
   "metadata": {
    "collapsed": true
   },
   "outputs": [],
   "source": [
    "# build the dictionary of frequencies\n",
    "d = {}\n",
    "for w in words:\n",
    "    if w in d:\n",
    "        d[w] = d[w] + 1\n",
    "    else:\n",
    "        d[w] = 1"
   ]
  },
  {
   "cell_type": "code",
   "execution_count": 131,
   "metadata": {},
   "outputs": [
    {
     "name": "stdout",
     "output_type": "stream",
     "text": [
      "('a', 1)\n",
      "('bye', 1)\n",
      "('file', 1)\n",
      "('hello', 1)\n",
      "('is', 1)\n",
      "('text', 1)\n",
      "('this', 1)\n"
     ]
    }
   ],
   "source": [
    "# print in alphabetical order\n",
    "items = list(d.items())\n",
    "items.sort()\n",
    "for i in items:\n",
    "    print(i)"
   ]
  },
  {
   "cell_type": "code",
   "execution_count": 132,
   "metadata": {},
   "outputs": [
    {
     "name": "stdout",
     "output_type": "stream",
     "text": [
      "(1, 'a')\n",
      "(1, 'bye')\n",
      "(1, 'file')\n",
      "(1, 'hello')\n",
      "(1, 'is')\n",
      "(1, 'text')\n",
      "(1, 'this')\n"
     ]
    }
   ],
   "source": [
    "# print in order from least to most common\n",
    "items = list(d.items())\n",
    "items = [(i[1], i[0]) for i in items]\n",
    "items.sort()\n",
    "for i in items:\n",
    "    print(i)"
   ]
  },
  {
   "cell_type": "markdown",
   "metadata": {},
   "source": [
    "# Dictionary Methods\n",
    "clear      #   Empties the dictionary.\n",
    "\n",
    "get    #  Returns the value associated with a key, or a default value if the key is not present.\n",
    "\n",
    "keys   #  Returns the dictionary’s keys as a list. Entries are guaranteed to be unique.\n",
    "\n",
    "items  #   Returns a list of (key, value) pairs.\n",
    "\n",
    "values  #   Returns the dictionary’s values as a list. Entries may or may not be unique.\n",
    "\n",
    "update   #   Updates the dictionary with the contents of another."
   ]
  },
  {
   "cell_type": "code",
   "execution_count": null,
   "metadata": {
    "collapsed": true
   },
   "outputs": [],
   "source": []
  },
  {
   "cell_type": "markdown",
   "metadata": {},
   "source": [
    "1. Write a program that repeatedly asks the user to enter product names and prices. Store all of these in a dictionary whose keys are the product names and whose values are the prices. When the user is done entering products and prices, allow them to repeatedly enter a product name and print the corresponding price or a message if the product is not in the dictionary.\n",
    "\n",
    "2. Using the dictionary created in the previous problem, allow the user to enter a dollar amount and print out all the products whose price is less than that amount.\n",
    "\n",
    "3. Write a program that uses a dictionary that contains ten user names and passwords. The program should ask the user to enter their username and password. If the username is not in the dictionary, the program should indicate that the person is not a valid user of the system. If the username is in the dictionary, but the user does not enter the right password, the program should say that the password is invalid. If the password is correct, then the program should tell the user that they are now logged in to the system.\n",
    "\n",
    "4. Below are the notes used in music: C C# D D# E F F# G G# A A# B The notes for the C major chord are C, E, G. A mathematical way to get this is that E is 4 steps past C and G is 7 steps past C. This works for any base. For example, the notes for D major are D, F#, A. We can represent the major chord steps as a list with two elements: [4,7] . The corresponding lists for some other chord types are shown below:\n",
    "\n",
    "Minor [3,7]\n",
    "\n",
    "Augmented fifth [4,8]\n",
    "\n",
    "Minor fifth [4,6]\n",
    "\n",
    "Major sixth [4,7,9]\n",
    "\n",
    "Minor sixth [3,7,9]\n",
    "\n",
    "\n",
    "Dominant seventh [4,7,10]\n",
    "\n",
    "Minor seventh [3,7,10]\n",
    "\n",
    "Major seventh [4,7,11]\n",
    "\n",
    "Diminished seventh [3,6,10]\n",
    "\n",
    "\n",
    "Write a program that asks the user for the key and the chord type and prints out the notes of\n",
    "the chord. Use a dictionary whose keys are the (musical) keys and whose values are the lists\n",
    "of steps.\n",
    "\n",
    "5. Suppose you are given the following list of strings: \n",
    "\n",
    "L = [ ' aabaabac ' , ' cabaabca ' , ' aaabbcba ' , ' aabacbab ' , ' acababba ' ] \n",
    "\n",
    "Patterns like this show up in many places, including DNA sequencing. The user has a string of their own with only some letters filled in and the rest as asterisks. An example is a**a**** . The user would like to know which of the strings in the list fit with their pattern. In the example just given, the matching strings are the first and fourth. One way to\n",
    "solve this problem is to create a dictionary whose keys are the indices in the user’s string of the non-asterisk characters and whose values are those characters. Write a program implementing this approach (or some other approach) to find the strings that match a user-entered string.\n",
    "\n",
    "6. Dictionaries provide a convenient way to store structured data. Here is an example dictionary:\n",
    "\n",
    "d=[{ ' name ' : ' Todd ' , ' phone ' : ' 555-1414 ' , ' email ' : ' todd@mail.net ' },\n",
    "{ ' name ' : ' Helga ' , ' phone ' : ' 555-1618 ' , ' email ' : ' helga@mail.net ' },\n",
    "{ ' name ' : ' Princess ' , ' phone ' : ' 555-3141 ' , ' email ' : '' },\n",
    "{ ' name ' : ' LJ ' , ' phone ' : ' 555-2718 ' , ' email ' : ' lj@mail.net ' }]\n",
    "\n",
    "Write a program that reads through any dictionary like this and prints the following:\n",
    " \n",
    " (a) All the users whose phone number ends in an 8\n",
    " \n",
    " (b) All the users that don’t have an email address listed\n",
    "\n",
    "\n",
    "7. The keys in a dictionary are guaranteed to be unique, but the\n",
    "values are not. Write a function called count_values that takes a\n",
    "single dictionary as an argument and returns the number of dis-\n",
    "tinct values it contains. Given the input {’red’:1, ’green’:1, ’blue’:2} ,\n",
    "for example, it would return 2.\n",
    "\n",
    "8. A sparse vector is a vector whose entries are almost all zero, like [1,\n",
    "0, 0, 0, 0, 0, 3, 0, 0, 0] . Storing all those zeroes in a list wastes memory,\n",
    "so programmers often use dictionaries instead to keep track of just\n",
    "the nonzero entries. For example, the vector shown earlier would\n",
    "be represented as {0:1, 6:3} , since the vector it is meant to represent\n",
    "has the value 1 at index 0 and the value 3 at index 6.\n",
    "\n",
    "a) Write a function called sparse_add that takes two sparse vec-\n",
    "tors stored as dictionaries and returns a new dictionary rep-\n",
    "resenting their sum.\n",
    "\n",
    "b) Write another function called sparse_dot that calculates the\n",
    "dot product of two sparse vectors.\n"
   ]
  },
  {
   "cell_type": "markdown",
   "metadata": {},
   "source": [
    "# Tuples"
   ]
  },
  {
   "cell_type": "code",
   "execution_count": 4,
   "metadata": {},
   "outputs": [
    {
     "name": "stdout",
     "output_type": "stream",
     "text": [
      "The list: [1, 2, 3, 4, 5, 6, 7]\n",
      "The tuple: (1, 2, 3, 4, 5, 6, 7)\n",
      "The first element in the list: 1\n",
      "The first element in the tuple: 1\n",
      "All the elements in the list: 1 2 3 4 5 6 7 \n",
      "All the elements in the tuple: 1 2 3 4 5 6 7 \n",
      "List slice: [3, 4, 5]\n",
      "Tuple slice: (3, 4, 5)\n",
      "Try to modify the first element in the list . . .\n",
      "The list: [9, 2, 3, 4, 5, 6, 7]\n",
      "Try to modify the first element in the tuple . . .\n"
     ]
    },
    {
     "ename": "TypeError",
     "evalue": "'tuple' object does not support item assignment",
     "output_type": "error",
     "traceback": [
      "\u001b[0;31m---------------------------------------------------------------------------\u001b[0m",
      "\u001b[0;31mTypeError\u001b[0m                                 Traceback (most recent call last)",
      "\u001b[0;32m<ipython-input-4-1a50447a5495>\u001b[0m in \u001b[0;36m<module>\u001b[0;34m()\u001b[0m\n\u001b[1;32m     29\u001b[0m \u001b[0;32mprint\u001b[0m\u001b[0;34m(\u001b[0m\u001b[0;34m'The list:'\u001b[0m\u001b[0;34m,\u001b[0m \u001b[0mmy_list\u001b[0m\u001b[0;34m)\u001b[0m\u001b[0;34m\u001b[0m\u001b[0m\n\u001b[1;32m     30\u001b[0m \u001b[0;32mprint\u001b[0m\u001b[0;34m(\u001b[0m\u001b[0;34m'Try to modify the first element in the tuple . . .'\u001b[0m\u001b[0;34m)\u001b[0m\u001b[0;34m\u001b[0m\u001b[0m\n\u001b[0;32m---> 31\u001b[0;31m \u001b[0mmy_tuple\u001b[0m\u001b[0;34m[\u001b[0m\u001b[0;36m0\u001b[0m\u001b[0;34m]\u001b[0m \u001b[0;34m=\u001b[0m \u001b[0;36m9\u001b[0m\u001b[0;34m\u001b[0m\u001b[0m\n\u001b[0m\u001b[1;32m     32\u001b[0m \u001b[0;31m# Is tuple modification possible?\u001b[0m\u001b[0;34m\u001b[0m\u001b[0;34m\u001b[0m\u001b[0m\n\u001b[1;32m     33\u001b[0m \u001b[0;32mprint\u001b[0m\u001b[0;34m(\u001b[0m\u001b[0;34m'The tuple:'\u001b[0m\u001b[0;34m,\u001b[0m \u001b[0mmy_tuple\u001b[0m\u001b[0;34m)\u001b[0m\u001b[0;34m\u001b[0m\u001b[0m\n",
      "\u001b[0;31mTypeError\u001b[0m: 'tuple' object does not support item assignment"
     ]
    }
   ],
   "source": [
    "from __future__ import print_function   # allows you to use the Python 3.0 style print function \n",
    "my_list = [1, 2, 3, 4, 5, 6, 7]\n",
    "# Make a list\n",
    "my_tuple = (1, 2, 3, 4, 5, 6, 7)\n",
    "# Make a tuple\n",
    "print('The list:', my_list)\n",
    "# Print the list\n",
    "print('The tuple:', my_tuple)\n",
    "# Print the tuple\n",
    "print('The first element in the list:', my_list[0]) # Access an element\n",
    "print('The first element in the tuple:', my_tuple[0]) # Access an element\n",
    "print('All the elements in the list:', end=' ')\n",
    "for elem in my_list:\n",
    "# Iterate over the elements of a list\n",
    "    print(elem, end=' ')\n",
    "print()\n",
    "print('All the elements in the tuple:', end=' ')\n",
    "for elem in my_tuple:\n",
    "# Iterate over the elements of a tuple\n",
    "    print(elem, end=' ')\n",
    "print()\n",
    "print('List slice:', my_list[2:5])\n",
    "# Slice a list\n",
    "print('Tuple slice:', my_tuple[2:5])\n",
    "# Slice a tuple\n",
    "print('Try to modify the first element in the list . . .')\n",
    "my_list[0] = 9\n",
    "# Modify the list\n",
    "print('The list:', my_list)\n",
    "print('Try to modify the first element in the tuple . . .')\n",
    "my_tuple[0] = 9\n",
    "# Is tuple modification possible?\n",
    "print('The tuple:', my_tuple)"
   ]
  },
  {
   "cell_type": "markdown",
   "metadata": {},
   "source": [
    "The next to the last statement in the\n",
    "program:\n",
    "    \n",
    "my_tuple[0] = 9\n",
    "\n",
    "generates a run-time exception because tuples are immutable. Once we create tuple object, we cannot\n",
    "change that object’s contents."
   ]
  },
  {
   "cell_type": "markdown",
   "metadata": {},
   "source": [
    "Unlike with lists, we cannot modify an element within a tuple, we cannot add elements to a tuple, nor\n",
    "can we remove elements from a tuple. If we have a variable assigned to a tuple, we always can reassign that\n",
    "variable to a different tuple. Such an assignment simply binds the variable to a different tuple object—it\n",
    "does not modify the tuple to which the variable originally was bound."
   ]
  },
  {
   "cell_type": "markdown",
   "metadata": {},
   "source": [
    "# Tuple unpacking. The following code unpacks a tuple into separate variables:"
   ]
  },
  {
   "cell_type": "code",
   "execution_count": 10,
   "metadata": {},
   "outputs": [
    {
     "name": "stdout",
     "output_type": "stream",
     "text": [
      "3 A 99\n"
     ]
    }
   ],
   "source": [
    "#tuple unpacking. The following code unpacks a tuple into separate variables:\n",
    "t = 3, 'A', 99\n",
    "val, letter, quant = t\n",
    "print (val, letter, quant)"
   ]
  },
  {
   "cell_type": "markdown",
   "metadata": {},
   "source": [
    "We can convert a tuple to a list using the list function, and the tuple function performs the reverse\n",
    "conversion. The following interactive sequence demonstrates the use of the conversion functions:"
   ]
  },
  {
   "cell_type": "code",
   "execution_count": 15,
   "metadata": {},
   "outputs": [
    {
     "name": "stdout",
     "output_type": "stream",
     "text": [
      "[1, 2, 3, 4, 5, 6, 7, 8]\n",
      "('a', 'b', 'c')\n"
     ]
    }
   ],
   "source": [
    "tpl = 1, 2,3,4,5,6,7,8\n",
    "a=list(tpl)\n",
    "lst = ['a','b','c']\n",
    "b=tuple(lst)\n",
    "print (a)\n",
    "print (b)"
   ]
  },
  {
   "cell_type": "markdown",
   "metadata": {},
   "source": [
    "We can use the built-in zip function to generate a sequence of tuples from two lists. Consider the\n",
    "following interactive sequence:"
   ]
  },
  {
   "cell_type": "code",
   "execution_count": 16,
   "metadata": {},
   "outputs": [
    {
     "name": "stdout",
     "output_type": "stream",
     "text": [
      "(1, 'a')\n",
      "(2, 'b')\n",
      "(3, 'c')\n",
      "(4, 'd')\n",
      "(5, 'e')\n",
      "(6, 'f')\n",
      "(7, 'g')\n",
      "(8, 'h')\n"
     ]
    }
   ],
   "source": [
    "lst1 = [1, 2, 3, 4, 5, 6, 7, 8]\n",
    "lst2 = ['a', 'b', 'c', 'd', 'e', 'f', 'g', 'h']\n",
    "for t in zip(lst1, lst2):\n",
    "    print(t)"
   ]
  },
  {
   "cell_type": "markdown",
   "metadata": {},
   "source": [
    "# constructs a sequence of tuples with their first elements derived from a list and their second elements obtained from a generator. Note that the generator’s sequence is shorter than the list."
   ]
  },
  {
   "cell_type": "code",
   "execution_count": 17,
   "metadata": {},
   "outputs": [
    {
     "name": "stdout",
     "output_type": "stream",
     "text": [
      "(10, 0) (20, 1) (30, 4) (40, 9) \n"
     ]
    }
   ],
   "source": [
    "def gen(n):\n",
    "    \"\"\" Generates the first n perfect squares, starting with zero:\n",
    "        0, 1, 4, 9, 16,..., (n - 1)ˆ2. \"\"\"\n",
    "    for i in range(n):\n",
    "        yield i**2\n",
    "for p in zip([10, 20, 30, 40, 50, 60], gen(4)):\n",
    "    print(p, end=' ')\n",
    "print()"
   ]
  },
  {
   "cell_type": "code",
   "execution_count": 18,
   "metadata": {},
   "outputs": [
    {
     "data": {
      "text/plain": [
       "[(0, 10), (1, 9), (2, 8), (3, 7), (4, 6)]"
      ]
     },
     "execution_count": 18,
     "metadata": {},
     "output_type": "execute_result"
    }
   ],
   "source": [
    "list(zip(range(5), range(10, 0, -1)))"
   ]
  },
  {
   "cell_type": "code",
   "execution_count": 20,
   "metadata": {},
   "outputs": [
    {
     "name": "stdout",
     "output_type": "stream",
     "text": [
      "(1, 10)\n",
      "(2, 11)\n",
      "(3, 12)\n",
      "(4, 13)\n",
      "(5, 14)\n"
     ]
    }
   ],
   "source": [
    "for p in zip([1, 2, 3, 4, 5], [10, 11, 12, 13, 14]):\n",
    "    print(p)"
   ]
  },
  {
   "cell_type": "code",
   "execution_count": 21,
   "metadata": {},
   "outputs": [
    {
     "name": "stdout",
     "output_type": "stream",
     "text": [
      "11\n",
      "13\n",
      "15\n",
      "17\n",
      "19\n"
     ]
    }
   ],
   "source": [
    "for (x, y) in zip([1, 2, 3, 4, 5], [10, 11, 12, 13, 14]):\n",
    "    print(x + y)"
   ]
  },
  {
   "cell_type": "markdown",
   "metadata": {},
   "source": [
    "A tuple is essentially an immutable list. Below is a list with three elements and a tuple with three\n",
    "elements:"
   ]
  },
  {
   "cell_type": "code",
   "execution_count": 133,
   "metadata": {
    "collapsed": true
   },
   "outputs": [],
   "source": [
    "L = [1,2,3]\n",
    "t = (1,2,3)"
   ]
  },
  {
   "cell_type": "markdown",
   "metadata": {},
   "source": [
    "Tuples are enclosed in parentheses, though the parentheses are actually optional. Indexing and\n",
    "slicing work the same as with lists. As with lists, you can get the length of the tuple by using the\n",
    "len function, and, like lists, tuples have count and index methods. However, since a tuple is\n",
    "immutable, it does not have any of the other methods that lists have, like sort or reverse , as\n",
    "those change the list."
   ]
  },
  {
   "cell_type": "markdown",
   "metadata": {},
   "source": [
    "One reason why there are both lists and tuples is that in some situations, you might want an im-\n",
    "mutable type of list. For instance, lists cannot serve as keys in dictionaries because the values of\n",
    "lists can change and it would be a nightmare for Python dictionaries to have to keep track of. Tu-\n",
    "ples, however, can serve as keys in dictionaries. Here is an example assigning grades to teams of\n",
    "students:"
   ]
  },
  {
   "cell_type": "code",
   "execution_count": 135,
   "metadata": {},
   "outputs": [
    {
     "name": "stdout",
     "output_type": "stream",
     "text": [
      "{(' Mike ', ' Tazz '): 87, (' John ', ' Ann '): 95}\n"
     ]
    }
   ],
   "source": [
    "grades = {( ' John ' , ' Ann ' ): 95, ( ' Mike ' , ' Tazz ' ): 87}\n",
    "print grades"
   ]
  },
  {
   "cell_type": "markdown",
   "metadata": {},
   "source": [
    "Also, in situations where speed really matters, tuples are generally faster than lists. The flexibility\n",
    "of lists comes with a corresponding cost in speed."
   ]
  },
  {
   "cell_type": "markdown",
   "metadata": {},
   "source": [
    "To convert an object into a tuple, use tuple . The following example converts a list and\n",
    "a string into tuples:"
   ]
  },
  {
   "cell_type": "code",
   "execution_count": 28,
   "metadata": {},
   "outputs": [
    {
     "name": "stdout",
     "output_type": "stream",
     "text": [
      "(1, 2, 3)\n",
      "(' ', 'a', 'b', 'c', 'd', 'e', ' ')\n"
     ]
    }
   ],
   "source": [
    "t1 = tuple([1,2,3])\n",
    "t2 = tuple( ' abcde ' )\n",
    "print t1\n",
    "print t2"
   ]
  },
  {
   "cell_type": "markdown",
   "metadata": {},
   "source": [
    "The empty tuple is () . The way to get a tuple with one element is like this: (1,) . Something\n",
    "like (1) will not work because that just evaluates to 1 as in an ordinary calculation. For instance,\n",
    "in the expression 2+(3*4) , we don’t want the (3*4) to be a tuple, we want it to evaluate to a\n",
    "number."
   ]
  },
  {
   "cell_type": "markdown",
   "metadata": {},
   "source": [
    "So why use tuples? Apart from sometimes being the only way to\n",
    "make your code work, there are few other reasons to use tuples:\n",
    "\n",
    "• Tuples are processed faster than lists. If you are creating a con-\n",
    "stant set of values that won’t change, and you need to simply\n",
    "iterate through them, use a tuple.\n",
    "\n",
    "• The sequences within a tuple are essentially protected from mod-\n",
    "ification. This way, you won’t accidentally change the values, nor\n",
    "can someone misuse an API to modify the data. (An API is an\n",
    "application programming interface. It allows programmers to\n",
    "use a program without having to know the details of the whole\n",
    "program.)\n",
    "\n",
    "• Tuples can be used as keys for dictionaries. Honestly, I don’t\n",
    "think I’ve ever used this, nor can I think of a time when you\n",
    "would need to. But it’s there if you ever need to use it.\n",
    "\n",
    "• Tuples are used in string formatting, by holding multiple values\n",
    "to be inserted into a string."
   ]
  },
  {
   "cell_type": "markdown",
   "metadata": {},
   "source": [
    "# Sets"
   ]
  },
  {
   "cell_type": "markdown",
   "metadata": {},
   "source": [
    "Python has a data type called a set. Sets work like mathematical sets. They are a lot like lists with\n",
    "no repeats. Sets are denoted by curly braces, like below:"
   ]
  },
  {
   "cell_type": "code",
   "execution_count": 137,
   "metadata": {
    "collapsed": true
   },
   "outputs": [],
   "source": [
    "S = {1,2,3,4,5}"
   ]
  },
  {
   "cell_type": "markdown",
   "metadata": {},
   "source": [
    "To get the empty set, use the set function with no arguments, like this:\n",
    "\n",
    "S = set()\n",
    "\n",
    "This set function can also be used to convert things to sets. Here are two examples:"
   ]
  },
  {
   "cell_type": "code",
   "execution_count": 138,
   "metadata": {},
   "outputs": [
    {
     "data": {
      "text/plain": [
       "{' ', 'a', 'e', 'h', 'i', 's', 't'}"
      ]
     },
     "execution_count": 138,
     "metadata": {},
     "output_type": "execute_result"
    }
   ],
   "source": [
    "set([1,4,4,4,5,1,2,1,3])\n",
    "set( ' this is a test ' )"
   ]
  },
  {
   "cell_type": "markdown",
   "metadata": {},
   "source": [
    "# Working with sets"
   ]
  },
  {
   "cell_type": "markdown",
   "metadata": {},
   "source": [
    "Method Description\n",
    "\n",
    "S.add(x)        Add x to the set\n",
    "\n",
    "S.remove(x)     Remove x from the set\n",
    "\n",
    "S.issubset(A)   Returns True if S ⊂ A and False otherwise.\n",
    "\n",
    "S.issuperset(A) Returns True if A ⊂ S and False otherwise."
   ]
  },
  {
   "cell_type": "markdown",
   "metadata": {},
   "source": [
    "Operator             Description                 Example\n",
    "\n",
    "|                    union                       {1,2,3} | {3,4} → {1,2,3,4}\n",
    "\n",
    "&                    intersection                {1,2,3} & {3,4} → {3}\n",
    "\n",
    "-                    difference                  {1,2,3} - {3,4} → {1,2}\n",
    "\n",
    "^                    symmetric difference        {1,2,3} ^ {3,4} → {1,2,4}\n",
    "\n",
    "in                   is an element of             3 in {1,2,3} → True"
   ]
  },
  {
   "cell_type": "code",
   "execution_count": 140,
   "metadata": {
    "collapsed": true
   },
   "outputs": [],
   "source": [
    "s = {i**2 for i in range(12)}"
   ]
  },
  {
   "cell_type": "code",
   "execution_count": 141,
   "metadata": {
    "collapsed": true
   },
   "outputs": [],
   "source": [
    "L = [1,4,4,4,5,1,2,1,3]\n",
    "L = list(set(L))"
   ]
  },
  {
   "cell_type": "markdown",
   "metadata": {},
   "source": [
    "# Unicode"
   ]
  },
  {
   "cell_type": "markdown",
   "metadata": {},
   "source": [
    "It used to be computers could only display 255 different characters, called ASCII characters. In this\n",
    "system, characters are allotted one byte of memory each, which gives 255 possible characters, each\n",
    "with a corresponding numerical value. Characters 0 through 31 include various control characters,\n",
    "including ' \\n ' and ' \\t ' . After that came some special symbols, then numbers, capital letters,\n",
    "lowercase letters, and a few more symbols. Beyond that are a variety of other symbols, including\n",
    "some international characters.\n",
    "However, 255 characters is not nearly enough to represent all of the symbols used throughout the\n",
    "alphabets of the world. The new standard is Unicode, which uses more than one byte to store\n",
    "character data. Unicode currently supports over 65,000 characters. “Standard” isn’t quite the right\n",
    "word here, as there are actually several standards in use, and this can cause some trouble. If you\n",
    "need to work with unicode data, do some research into it first to learn about all the craziness."
   ]
  },
  {
   "cell_type": "markdown",
   "metadata": {},
   "source": [
    "In Unicode, characters still have have numerical equivalents. If you would like to go back and\n",
    "forth between a character and its numerical equivalent, use the chr and ord built-in functions.\n",
    "For\n",
    "example, use ord( ' A ' ) to get the numerical value of ' A ' , and use chr(65) to get the character\n",
    "with numerical value 65.\n",
    "\n",
    "Here is a short example that prints out the first 1000 Unicode characters."
   ]
  },
  {
   "cell_type": "code",
   "execution_count": 32,
   "metadata": {},
   "outputs": [
    {
     "name": "stdout",
     "output_type": "stream",
     "text": [
      "\u0000\u0001\u0002\u0003\u0004\u0005\u0006\u0007\b\t\n",
      "\u000b",
      "\f",
      "\r",
      "\u000e\u000f\u0010\u0011\u0012\u0013\u0014\u0015\u0016\u0017\u0018\u0019\u001a\u001b\u001c",
      "\u001d",
      "\u001e",
      "\u001f !\"#$%&'()*+,-./0123456789:;<=>?@ABCDEFGHIJKLMNOPQRSTUVWXYZ[\\]^_`abcdefghijklmnopqrstuvwxyz{|}~��������������������������������������������������������������������������������������������������������������������������������\n"
     ]
    }
   ],
   "source": [
    "print (''.join([chr(i) for i in range(256)]))"
   ]
  },
  {
   "cell_type": "code",
   "execution_count": 31,
   "metadata": {},
   "outputs": [
    {
     "name": "stdout",
     "output_type": "stream",
     "text": [
      "A 65\n"
     ]
    }
   ],
   "source": [
    "print chr(65), ord('A')"
   ]
  },
  {
   "cell_type": "markdown",
   "metadata": {},
   "source": [
    "Python supports Unicode, both in strings and in the names of variables, functions, etc. There are\n",
    "some differences between Python 2 and Python 3 in support for Unicode."
   ]
  },
  {
   "cell_type": "markdown",
   "metadata": {},
   "source": [
    "# enumerate and zip"
   ]
  },
  {
   "cell_type": "markdown",
   "metadata": {},
   "source": [
    "The built-in enumerate function takes an iterable and returns a new iterable consisting of pairs\n",
    "(i,x) where i is an index and x is the corresponding element from the iterable. For example:"
   ]
  },
  {
   "cell_type": "code",
   "execution_count": 33,
   "metadata": {},
   "outputs": [
    {
     "name": "stdout",
     "output_type": "stream",
     "text": [
      "(1, 'a')\n",
      "(2, 'b')\n",
      "(3, 'c')\n",
      "(4, 'd')\n",
      "(5, 'e')\n",
      "(6, ' ')\n"
     ]
    }
   ],
   "source": [
    "s = 'abcde '\n",
    "for (i,x) in enumerate(s):\n",
    "    print(i+1, x)"
   ]
  },
  {
   "cell_type": "code",
   "execution_count": 22,
   "metadata": {},
   "outputs": [
    {
     "name": "stdout",
     "output_type": "stream",
     "text": [
      "(0, 'a')\n",
      "(1, 'b')\n",
      "(2, 'c')\n"
     ]
    }
   ],
   "source": [
    "for x in enumerate('abc' ):\n",
    "    print (x)"
   ]
  },
  {
   "cell_type": "markdown",
   "metadata": {},
   "source": [
    "The object returned is something that is like a list of pairs, but not exactly. The following will give\n",
    "a list of pairs:"
   ]
  },
  {
   "cell_type": "code",
   "execution_count": 151,
   "metadata": {},
   "outputs": [
    {
     "data": {
      "text/plain": [
       "[(0, ' '), (1, 'a'), (2, 'b'), (3, 'c'), (4, 'd'), (5, 'e'), (6, ' ')]"
      ]
     },
     "execution_count": 151,
     "metadata": {},
     "output_type": "execute_result"
    }
   ],
   "source": [
    "list(enumerate(s))"
   ]
  },
  {
   "cell_type": "markdown",
   "metadata": {},
   "source": [
    "The for loop above is equivalent to the following:"
   ]
  },
  {
   "cell_type": "code",
   "execution_count": 152,
   "metadata": {},
   "outputs": [
    {
     "name": "stdout",
     "output_type": "stream",
     "text": [
      "(1, ' ')\n",
      "(2, 'a')\n",
      "(3, 'b')\n",
      "(4, 'c')\n",
      "(5, 'd')\n",
      "(6, 'e')\n",
      "(7, ' ')\n"
     ]
    }
   ],
   "source": [
    "for i in range(len(s)):\n",
    "    print(i+1, s[i])"
   ]
  },
  {
   "cell_type": "markdown",
   "metadata": {},
   "source": [
    "The enumerate code can be shorter or clearer in some situations. Here is an example that returns\n",
    "a list of the indices of all the ones in a string:"
   ]
  },
  {
   "cell_type": "code",
   "execution_count": 153,
   "metadata": {},
   "outputs": [
    {
     "data": {
      "text/plain": [
       "[]"
      ]
     },
     "execution_count": 153,
     "metadata": {},
     "output_type": "execute_result"
    }
   ],
   "source": [
    "[j for (j,c) in enumerate(s) if c== ' 1 ' ]"
   ]
  },
  {
   "cell_type": "markdown",
   "metadata": {},
   "source": [
    "# zip \n",
    "The zip function takes two iterables and “zips” them up into a single iterable that contains\n",
    "pairs (x,y) , where x is from the first iterable, and y is from the second. Here is an example:"
   ]
  },
  {
   "cell_type": "code",
   "execution_count": 154,
   "metadata": {},
   "outputs": [
    {
     "name": "stdout",
     "output_type": "stream",
     "text": [
      "[(' ', 10), ('a', 20), ('b', 30)]\n"
     ]
    }
   ],
   "source": [
    "s = ' abc '\n",
    "L = [10, 20, 30]\n",
    "z = zip(s,L)\n",
    "print(list(z))"
   ]
  },
  {
   "cell_type": "markdown",
   "metadata": {},
   "source": [
    "Just like with enumerate , the result of zip is not quite a list, but if we do list(zip(s,L)) , we\n",
    "can get a list from it."
   ]
  },
  {
   "cell_type": "code",
   "execution_count": 155,
   "metadata": {
    "collapsed": true
   },
   "outputs": [],
   "source": [
    "#Here is an example that uses zip to create a dictionary from two lists.\n",
    "L = [ ' one ' , ' two ' , ' three ' ]\n",
    "M = [4, 9, 15]\n",
    "d = dict(zip(L,M))"
   ]
  },
  {
   "cell_type": "markdown",
   "metadata": {},
   "source": [
    "This technique can be used to create a dictionary while your program is running."
   ]
  }
 ],
 "metadata": {
  "kernelspec": {
   "display_name": "Python 2",
   "language": "python",
   "name": "python2"
  },
  "language_info": {
   "codemirror_mode": {
    "name": "ipython",
    "version": 2
   },
   "file_extension": ".py",
   "mimetype": "text/x-python",
   "name": "python",
   "nbconvert_exporter": "python",
   "pygments_lexer": "ipython2",
   "version": "2.7.13"
  }
 },
 "nbformat": 4,
 "nbformat_minor": 2
}
